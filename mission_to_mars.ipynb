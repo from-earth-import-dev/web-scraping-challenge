{
 "cells": [
  {
   "cell_type": "code",
   "execution_count": 60,
   "metadata": {},
   "outputs": [],
   "source": [
    "from bs4 import BeautifulSoup\n",
    "import pandas as pd\n",
    "import requests\n",
    "from splinter import Browser\n",
    "import time"
   ]
  },
  {
   "cell_type": "code",
   "execution_count": 2,
   "metadata": {},
   "outputs": [
    {
     "name": "stdout",
     "output_type": "stream",
     "text": [
      "/usr/local/bin/chromedriver\r\n"
     ]
    }
   ],
   "source": [
    "!which chromedriver"
   ]
  },
  {
   "cell_type": "code",
   "execution_count": 14,
   "metadata": {},
   "outputs": [],
   "source": [
    "# NASA Mars News\n",
    "executable_path = {'executable_path': '/usr/local/bin/chromedriver'}\n",
    "news_browser = Browser('chrome', **executable_path, headless=True)\n",
    "\n",
    "news_url = 'https://mars.nasa.gov/news/?page=0&per_page=40&order=publish_date+desc%2Ccreated_at+desc&search=&category=19%2C165%2C184%2C204&blank_scope=Latest'\n",
    "titles = []\n",
    "blurbs = []\n",
    "\n",
    "with news_browser: # Open browser window, extract, close browser window\n",
    "    news_browser.visit(news_url)\n",
    "    html = news_browser.html\n",
    "    news_soup = BeautifulSoup(html, 'html.parser')\n",
    "\n",
    "    for item in news_soup.find_all('ul', class_='item_list'):\n",
    "        for li in item:\n",
    "            titles.append(li.find('div', class_='content_title').text)\n",
    "            blurbs.append(li.find('div', class_='article_teaser_body').text)\n",
    "\n",
    "latest_title = titles[0]\n",
    "latest_blurb = blurbs[0]"
   ]
  },
  {
   "cell_type": "code",
   "execution_count": 18,
   "metadata": {
    "scrolled": true
   },
   "outputs": [
    {
     "name": "stdout",
     "output_type": "stream",
     "text": [
      "Latest title: Mars Scientists Investigate Ancient Life in Australia      Latest blurb: Teams with NASA's Mars 2020 and ESA's ExoMars practiced hunting for fossilized microbial life in the Australian Outback in preparation for their Red Planet missions. \n"
     ]
    }
   ],
   "source": [
    "print(f'Latest title: {latest_title}      Latest blurb: {latest_blurb}')"
   ]
  },
  {
   "cell_type": "code",
   "execution_count": 94,
   "metadata": {},
   "outputs": [],
   "source": [
    "# NASA Mars News\n",
    "def mars_news(): \n",
    "    executable_path = {'executable_path': '/usr/local/bin/chromedriver'}\n",
    "    news_browser = Browser('chrome', **executable_path, headless=True)\n",
    "\n",
    "    news_url = 'https://mars.nasa.gov/news/?page=0&per_page=40&order=publish_date+desc%2Ccreated_at+desc&search=&category=19%2C165%2C184%2C204&blank_scope=Latest'\n",
    "    titles = []\n",
    "    blurbs = []\n",
    "\n",
    "    with news_browser: # Open browser window, extract, close browser window\n",
    "        news_browser.visit(news_url)\n",
    "        html = news_browser.html\n",
    "        news_soup = BeautifulSoup(html, 'html.parser')\n",
    "\n",
    "        for item in news_soup.find_all('ul', class_='item_list'):\n",
    "            for li in item:\n",
    "                titles.append(li.find('div', class_='content_title').text)\n",
    "                blurbs.append(li.find('div', class_='article_teaser_body').text)\n",
    "\n",
    "    latest_title = titles[0]\n",
    "    latest_blurb = blurbs[0]\n",
    "    news_arr = [latest_title, latest_blurb]\n",
    "    \n",
    "    return news_arr"
   ]
  },
  {
   "cell_type": "code",
   "execution_count": 93,
   "metadata": {},
   "outputs": [
    {
     "name": "stdout",
     "output_type": "stream",
     "text": [
      "Teams with NASA's Mars 2020 and ESA's ExoMars practiced hunting for fossilized microbial life in the Australian Outback in preparation for their Red Planet missions. \n"
     ]
    }
   ],
   "source": [
    "stories = mars_news()\n",
    "\n",
    "print(stories[1])"
   ]
  },
  {
   "cell_type": "code",
   "execution_count": 15,
   "metadata": {},
   "outputs": [],
   "source": [
    "# JPL Mars Space Images - Featured Image\n",
    "mars_image_url = 'https://www.jpl.nasa.gov/spaceimages/?search=&category=Mars'\n",
    "image_browser = Browser('chrome', **executable_path, headless=True)\n",
    "\n",
    "with image_browser:\n",
    "    image_browser.visit(mars_image_url)\n",
    "    mars_image_html = image_browser.html\n",
    "    image_soup = BeautifulSoup(mars_image_html, 'html.parser')\n",
    "\n",
    "    for i in image_soup.find_all('article', class_='carousel_item'):\n",
    "        background_image = i['style'].split(' ')\n",
    "        \n",
    "raw_url = background_image[1]\n",
    "clean_url = raw_url.split(\"'\")[1].split('spaceimages')[1][1:]\n",
    "base_url = mars_image_url.split('?')[0]\n",
    "featured_image_url = base_url + clean_url"
   ]
  },
  {
   "cell_type": "code",
   "execution_count": 17,
   "metadata": {},
   "outputs": [
    {
     "data": {
      "text/plain": [
       "'https://www.jpl.nasa.gov/spaceimages/images/wallpaper/PIA17841-1920x1200.jpg'"
      ]
     },
     "execution_count": 17,
     "metadata": {},
     "output_type": "execute_result"
    }
   ],
   "source": [
    "featured_image_url"
   ]
  },
  {
   "cell_type": "code",
   "execution_count": 19,
   "metadata": {},
   "outputs": [],
   "source": [
    "# Mars Weather\n",
    "mars_weather_url = 'https://twitter.com/marswxreport'\n",
    "weather_browser = Browser('chrome', **executable_path, headless=True)\n",
    "\n",
    "mars_weather_arr = []\n",
    "\n",
    "with weather_browser:\n",
    "    weather_browser.visit(mars_weather_url)\n",
    "    mars_weather_html = weather_browser.html\n",
    "    weather_soup = BeautifulSoup(mars_weather_html, 'html.parser')\n",
    "\n",
    "    for item in weather_soup.find_all('ol', class_='stream-items'):\n",
    "        for tweet in item.find_all('div', class_='tweet'):\n",
    "            mars_weather_arr.append(tweet.find('p').text)\n",
    "\n",
    "mars_weather = mars_weather_arr[0]"
   ]
  },
  {
   "cell_type": "code",
   "execution_count": 21,
   "metadata": {},
   "outputs": [
    {
     "name": "stdout",
     "output_type": "stream",
     "text": [
      "InSight sol 344 (2019-11-15) low -99.9ºC (-147.9ºF) high -23.3ºC (-9.9ºF)\n",
      "winds from the SSE at 5.7 m/s (12.9 mph) gusting to 18.9 m/s (42.3 mph)\n",
      "pressure at 6.80 hPapic.twitter.com/KfHgLqxVBk\n"
     ]
    }
   ],
   "source": [
    "print(mars_weather)"
   ]
  },
  {
   "cell_type": "code",
   "execution_count": 24,
   "metadata": {},
   "outputs": [],
   "source": [
    "# Mars Facts\n",
    "mars_facts_url = 'https://space-facts.com/mars/'\n",
    "facts_browser = Browser('chrome', **executable_path, headless=True)\n",
    "\n",
    "facts_browser.visit(mars_facts_url)\n",
    "facts_html = facts_browser.html\n",
    "\n",
    "facts_df = pd.read_html(facts_html, index_col=0)[0]\n",
    "idx = facts_df.index.values\n",
    "facts_df_html = facts_df.to_html()"
   ]
  },
  {
   "cell_type": "code",
   "execution_count": 26,
   "metadata": {},
   "outputs": [
    {
     "data": {
      "text/html": [
       "<div>\n",
       "<style scoped>\n",
       "    .dataframe tbody tr th:only-of-type {\n",
       "        vertical-align: middle;\n",
       "    }\n",
       "\n",
       "    .dataframe tbody tr th {\n",
       "        vertical-align: top;\n",
       "    }\n",
       "\n",
       "    .dataframe thead th {\n",
       "        text-align: right;\n",
       "    }\n",
       "</style>\n",
       "<table border=\"1\" class=\"dataframe\">\n",
       "  <thead>\n",
       "    <tr style=\"text-align: right;\">\n",
       "      <th></th>\n",
       "      <th>1</th>\n",
       "    </tr>\n",
       "    <tr>\n",
       "      <th>0</th>\n",
       "      <th></th>\n",
       "    </tr>\n",
       "  </thead>\n",
       "  <tbody>\n",
       "    <tr>\n",
       "      <th>Equatorial Diameter:</th>\n",
       "      <td>6,792 km</td>\n",
       "    </tr>\n",
       "    <tr>\n",
       "      <th>Polar Diameter:</th>\n",
       "      <td>6,752 km</td>\n",
       "    </tr>\n",
       "    <tr>\n",
       "      <th>Mass:</th>\n",
       "      <td>6.39 × 10^23 kg (0.11 Earths)</td>\n",
       "    </tr>\n",
       "    <tr>\n",
       "      <th>Moons:</th>\n",
       "      <td>2 (Phobos &amp; Deimos)</td>\n",
       "    </tr>\n",
       "    <tr>\n",
       "      <th>Orbit Distance:</th>\n",
       "      <td>227,943,824 km (1.38 AU)</td>\n",
       "    </tr>\n",
       "    <tr>\n",
       "      <th>Orbit Period:</th>\n",
       "      <td>687 days (1.9 years)</td>\n",
       "    </tr>\n",
       "    <tr>\n",
       "      <th>Surface Temperature:</th>\n",
       "      <td>-87 to -5 °C</td>\n",
       "    </tr>\n",
       "    <tr>\n",
       "      <th>First Record:</th>\n",
       "      <td>2nd millennium BC</td>\n",
       "    </tr>\n",
       "    <tr>\n",
       "      <th>Recorded By:</th>\n",
       "      <td>Egyptian astronomers</td>\n",
       "    </tr>\n",
       "  </tbody>\n",
       "</table>\n",
       "</div>"
      ],
      "text/plain": [
       "                                                  1\n",
       "0                                                  \n",
       "Equatorial Diameter:                       6,792 km\n",
       "Polar Diameter:                            6,752 km\n",
       "Mass:                 6.39 × 10^23 kg (0.11 Earths)\n",
       "Moons:                          2 (Phobos & Deimos)\n",
       "Orbit Distance:            227,943,824 km (1.38 AU)\n",
       "Orbit Period:                  687 days (1.9 years)\n",
       "Surface Temperature:                   -87 to -5 °C\n",
       "First Record:                     2nd millennium BC\n",
       "Recorded By:                   Egyptian astronomers"
      ]
     },
     "execution_count": 26,
     "metadata": {},
     "output_type": "execute_result"
    }
   ],
   "source": [
    "facts_df"
   ]
  },
  {
   "cell_type": "code",
   "execution_count": 86,
   "metadata": {},
   "outputs": [],
   "source": [
    "# Mars Hemispheres\n",
    "mars_hemisphere_url = 'https://astrogeology.usgs.gov/search/results?q=hemisphere+enhanced&k1=target&v1=Mars'\n",
    "hemisphere_browser = Browser('chrome', **executable_path, headless=True)\n",
    "\n",
    "with hemisphere_browser:\n",
    "    hemisphere_browser.visit(mars_hemisphere_url)\n",
    "    time.sleep(2)\n",
    "    mars_hemisphere_html = hemisphere_browser.html\n",
    "    hemisphere_soup = BeautifulSoup(mars_hemisphere_html, 'html.parser')\n",
    "\n",
    "    hemisphere_image_urls = []\n",
    "\n",
    "    for i in hemisphere_soup.find_all('div', class_='results'):\n",
    "        for j in i.find_all('div', class_='description'):\n",
    "            for a in j.find_all('a'):\n",
    "                hemisphere_dict = {}\n",
    "                \n",
    "                hemisphere_browser.click_link_by_partial_text(a.text)\n",
    "                hemisphere_dict['title'] = a.text.split('Enhanced')[0]\n",
    "                \n",
    "                img_html = hemisphere_browser.html\n",
    "                img_soup = BeautifulSoup(img_html, 'html.parser')\n",
    "                for item in img_soup.find_all('div', class_='downloads'):\n",
    "                    hemisphere_dict['img_url'] = item.find('a').get('href')\n",
    "                hemisphere_image_urls.append(hemisphere_dict)\n",
    "                time.sleep(1)\n",
    "                \n",
    "                hemisphere_browser.back()\n",
    "                time.sleep(2)"
   ]
  },
  {
   "cell_type": "code",
   "execution_count": 87,
   "metadata": {},
   "outputs": [
    {
     "data": {
      "text/plain": [
       "[{'title': 'Cerberus Hemisphere ',\n",
       "  'img_url': 'http://astropedia.astrogeology.usgs.gov/download/Mars/Viking/cerberus_enhanced.tif/full.jpg'},\n",
       " {'title': 'Schiaparelli Hemisphere ',\n",
       "  'img_url': 'http://astropedia.astrogeology.usgs.gov/download/Mars/Viking/schiaparelli_enhanced.tif/full.jpg'},\n",
       " {'title': 'Syrtis Major Hemisphere ',\n",
       "  'img_url': 'http://astropedia.astrogeology.usgs.gov/download/Mars/Viking/syrtis_major_enhanced.tif/full.jpg'},\n",
       " {'title': 'Valles Marineris Hemisphere ',\n",
       "  'img_url': 'http://astropedia.astrogeology.usgs.gov/download/Mars/Viking/valles_marineris_enhanced.tif/full.jpg'}]"
      ]
     },
     "execution_count": 87,
     "metadata": {},
     "output_type": "execute_result"
    }
   ],
   "source": [
    "hemisphere_image_urls"
   ]
  },
  {
   "cell_type": "code",
   "execution_count": 98,
   "metadata": {},
   "outputs": [],
   "source": [
    "from flask import Flask\n",
    "from flask_pymongo import PyMongo\n",
    "\n",
    "app = Flask(__name__)"
   ]
  },
  {
   "cell_type": "code",
   "execution_count": null,
   "metadata": {},
   "outputs": [],
   "source": []
  }
 ],
 "metadata": {
  "kernelspec": {
   "display_name": "Python 3",
   "language": "python",
   "name": "python3"
  },
  "language_info": {
   "codemirror_mode": {
    "name": "ipython",
    "version": 3
   },
   "file_extension": ".py",
   "mimetype": "text/x-python",
   "name": "python",
   "nbconvert_exporter": "python",
   "pygments_lexer": "ipython3",
   "version": "3.6.8"
  }
 },
 "nbformat": 4,
 "nbformat_minor": 2
}
